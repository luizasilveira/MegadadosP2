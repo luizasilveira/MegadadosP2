{
 "cells": [
  {
   "cell_type": "code",
   "execution_count": 1,
   "metadata": {},
   "outputs": [],
   "source": [
    "import pyspark\n",
    "import math"
   ]
  },
  {
   "cell_type": "code",
   "execution_count": 2,
   "metadata": {},
   "outputs": [],
   "source": [
    "sc = pyspark.SparkContext(appName = \"teste\")"
   ]
  },
  {
   "cell_type": "code",
   "execution_count": 3,
   "metadata": {},
   "outputs": [
    {
     "data": {
      "text/html": [
       "\n",
       "        <div>\n",
       "            <p><b>SparkContext</b></p>\n",
       "\n",
       "            <p><a href=\"http://mbp-de-gabriela:4040\">Spark UI</a></p>\n",
       "\n",
       "            <dl>\n",
       "              <dt>Version</dt>\n",
       "                <dd><code>v3.0.1</code></dd>\n",
       "              <dt>Master</dt>\n",
       "                <dd><code>local[*]</code></dd>\n",
       "              <dt>AppName</dt>\n",
       "                <dd><code>teste</code></dd>\n",
       "            </dl>\n",
       "        </div>\n",
       "        "
      ],
      "text/plain": [
       "<SparkContext master=local[*] appName=teste>"
      ]
     },
     "execution_count": 3,
     "metadata": {},
     "output_type": "execute_result"
    }
   ],
   "source": [
    "sc"
   ]
  },
  {
   "cell_type": "code",
   "execution_count": 161,
   "metadata": {},
   "outputs": [],
   "source": [
    "rdd = sc.sequenceFile(\"part-00000\")"
   ]
  },
  {
   "cell_type": "code",
   "execution_count": 162,
   "metadata": {},
   "outputs": [
    {
     "data": {
      "text/plain": [
       "36133"
      ]
     },
     "execution_count": 162,
     "metadata": {},
     "output_type": "execute_result"
    }
   ],
   "source": [
    "N_docs = rdd.count()\n",
    "N_docs"
   ]
  },
  {
   "cell_type": "code",
   "execution_count": 347,
   "metadata": {},
   "outputs": [],
   "source": [
    "rdd_ip = rdd.filter(lambda x: \"iphone\" in x[1]) \n",
    "rdd_an = rdd.filter(lambda x: \"android\" in x[1])"
   ]
  },
  {
   "cell_type": "code",
   "execution_count": 348,
   "metadata": {},
   "outputs": [],
   "source": [
    "rdd_in = rdd_ip.intersection(rdd_an)"
   ]
  },
  {
   "cell_type": "code",
   "execution_count": 327,
   "metadata": {},
   "outputs": [],
   "source": [
    "def conta_palavras(item):\n",
    "    url, conteudo = item \n",
    "    palavras = conteudo.strip().split()\n",
    "    return [(palavra.lower(), 1) for palavra in palavras]\n",
    "\n",
    "def conta_documentos(item):\n",
    "    url, conteudo = item \n",
    "    palavras = conteudo.strip().split()\n",
    "    return [(palavra.lower(), 1) for palavra in set(palavras)]\n",
    "\n",
    "def junta_contagens(nova_contagem, contagem_atual):\n",
    "    return nova_contagem + contagem_atual"
   ]
  },
  {
   "cell_type": "code",
   "execution_count": 328,
   "metadata": {},
   "outputs": [],
   "source": [
    "rdd_iphone = rdd_ip.flatMap(conta_palavras).reduceByKey(junta_contagens)\n",
    "rdd_android = rdd_an.flatMap(conta_palavras).reduceByKey(junta_contagens)\n",
    "rdd_inter = rdd_in.flatMap(conta_palavras).reduceByKey(junta_contagens)"
   ]
  },
  {
   "cell_type": "code",
   "execution_count": 329,
   "metadata": {},
   "outputs": [
    {
     "data": {
      "text/plain": [
       "22559"
      ]
     },
     "execution_count": 329,
     "metadata": {},
     "output_type": "execute_result"
    }
   ],
   "source": [
    "rdd_inter.count()"
   ]
  },
  {
   "cell_type": "code",
   "execution_count": 330,
   "metadata": {},
   "outputs": [],
   "source": [
    "rdd_iphone_docs = rdd_ip.flatMap(conta_documentos).reduceByKey(junta_contagens)\n",
    "rdd_android_docs = rdd_an.flatMap(conta_documentos).reduceByKey(junta_contagens)\n",
    "rdd_inter_docs = rdd_in.flatMap(conta_documentos).reduceByKey(junta_contagens)"
   ]
  },
  {
   "cell_type": "code",
   "execution_count": 331,
   "metadata": {},
   "outputs": [],
   "source": [
    "doc_min = 10\n",
    "doc_max = 0.7* N_docs\n",
    "def filtra_doc_freq(item):\n",
    "    contagem = item[1]\n",
    "    return (contagem < doc_max) and (contagem >= doc_min)"
   ]
  },
  {
   "cell_type": "code",
   "execution_count": 332,
   "metadata": {},
   "outputs": [],
   "source": [
    "rdd_iphone_docs_filtrado = rdd_iphone_docs.filter(filtra_doc_freq)\n",
    "rdd_android_docs_filtrado = rdd_android_docs.filter(filtra_doc_freq)\n",
    "rdd_inter_docs_filtrado = rdd_inter_docs.filter(filtra_doc_freq)"
   ]
  },
  {
   "cell_type": "code",
   "execution_count": 333,
   "metadata": {},
   "outputs": [],
   "source": [
    "def computa_idf(item):\n",
    "    palavra, contagem = item\n",
    "    idf = math.log10(N / contagem)\n",
    "    return (palavra,idf)\n",
    "\n",
    "def computa_freq(item):\n",
    "    palavra, contagem = item\n",
    "    freq = math.log10(1 + contagem)\n",
    "    return (palavra,freq)"
   ]
  },
  {
   "cell_type": "code",
   "execution_count": 334,
   "metadata": {},
   "outputs": [],
   "source": [
    "rdd_iphone_idf = rdd_iphone_docs_filtrado.map(computa_idf)\n",
    "rdd_iphone_freq = rdd_iphone.map(computa_freq)\n",
    "\n",
    "rdd_android_idf = rdd_android_docs_filtrado.map(computa_idf)\n",
    "rdd_android_freq = rdd_android.map(computa_freq)\n",
    "\n",
    "rdd_inter_idf = rdd_inter_docs_filtrado.map(computa_idf)\n",
    "rdd_inter_freq = rdd_inter.map(computa_freq)"
   ]
  },
  {
   "cell_type": "code",
   "execution_count": 335,
   "metadata": {},
   "outputs": [],
   "source": [
    "def computa_rel(item):\n",
    "    palavra, contagem = item\n",
    "    freq, idf = contagem\n",
    "    relevancia = freq*idf\n",
    "    return (palavra, relevancia)"
   ]
  },
  {
   "cell_type": "code",
   "execution_count": 336,
   "metadata": {},
   "outputs": [
    {
     "data": {
      "text/plain": [
       "[('celular', 10.918929897720963),\n",
       " ('de', 10.65226020572554),\n",
       " ('gratis', 10.187427917608622),\n",
       " ('rastrear', 10.099324307691498),\n",
       " ('for', 9.743732509039093),\n",
       " ('i', 9.685260126683293),\n",
       " ('espião', 9.627203382368709),\n",
       " ('online', 9.606827906253104),\n",
       " ('to', 9.367426026465914),\n",
       " ('in', 9.256673011156547),\n",
       " ('pelo', 9.130897202133154),\n",
       " ('a', 9.111594893926162),\n",
       " ('para', 9.087596802319817),\n",
       " ('-', 9.028483087349832),\n",
       " ('e', 9.005251086580257),\n",
       " ('your', 8.883836035177545),\n",
       " ('que', 8.87850930431145),\n",
       " ('com', 8.875611785506019),\n",
       " ('and', 8.758118909897044),\n",
       " ('is', 8.685157116840974),\n",
       " ('como', 8.584007505857327),\n",
       " ('the', 8.565080621558074),\n",
       " ('em', 8.45919112679308),\n",
       " ('of', 8.421448145475372),\n",
       " ('android', 8.408239152291245),\n",
       " ('o', 8.276317554492827),\n",
       " ('do', 8.26762520600069),\n",
       " ('sites', 8.158209278209814),\n",
       " ('2020', 8.132449320022237),\n",
       " ('um', 8.120040911779983),\n",
       " ('aplicativo', 8.067211582341322),\n",
       " ('no', 7.99630614162871),\n",
       " ('blog', 7.922892022557706),\n",
       " ('site', 7.910771214424571),\n",
       " ('review', 7.889595041749248),\n",
       " ('da', 7.8514254266496835),\n",
       " ('1', 7.618482504881397),\n",
       " ('whatsapp', 7.594091787429006),\n",
       " ('web', 7.568034715312993),\n",
       " ('4', 7.553034858402507),\n",
       " ('3', 7.50834475797896),\n",
       " ('é', 7.492489115702574),\n",
       " ('new', 7.485131718305069),\n",
       " ('notebook', 7.460604567077237),\n",
       " ('with', 7.460604567077237),\n",
       " ('reviews', 7.4337057618360465),\n",
       " ('app', 7.416736755375377),\n",
       " ('–', 7.376888830578155),\n",
       " ('mobile', 7.3421564939196315),\n",
       " ('2', 7.3159327364325115),\n",
       " ('rastreamento', 7.277062850586488),\n",
       " ('on', 7.257205069446189),\n",
       " ('não', 7.2159384944718745),\n",
       " ('as', 7.204375230883557),\n",
       " ('tela', 7.182468584021136),\n",
       " ('se', 7.163931823164749),\n",
       " ('telefone', 7.161481655512883),\n",
       " ('5', 7.141144676882256),\n",
       " ('por', 7.102534023017216),\n",
       " ('from', 7.078164917995907),\n",
       " ('uma', 7.020685753296665),\n",
       " ('ou', 6.996195007692001),\n",
       " ('mais', 6.954414575172371),\n",
       " ('pen', 6.911428080737985),\n",
       " ('os', 6.893505171764883),\n",
       " ('7', 6.864687354103451),\n",
       " ('6', 6.833088468209819),\n",
       " ('software', 6.793617306508775),\n",
       " ('som', 6.76362552400377),\n",
       " ('dos', 6.763208039149541),\n",
       " ('login', 6.672748956364848),\n",
       " ('10', 6.632857859787886),\n",
       " ('na', 6.630059763644767),\n",
       " ('melhor', 6.582745156488406),\n",
       " ('8', 6.58207258685276),\n",
       " ('by', 6.561574944594803),\n",
       " ('11', 6.5353530663601305),\n",
       " ('você', 6.50265420404394),\n",
       " ('pessoa', 6.496998883281172),\n",
       " ('12', 6.496998883281172),\n",
       " ('jogos', 6.485253191133981),\n",
       " ('all', 6.481983670697693),\n",
       " ('está', 6.453617155021245),\n",
       " ('seu', 6.419840034252641),\n",
       " ('preço', 6.360559409321791),\n",
       " ('sem', 6.354198278682313),\n",
       " ('date', 6.326491483788505),\n",
       " ('pc', 6.268999505707799),\n",
       " ('13', 6.235233791996123),\n",
       " ('top', 6.2301581593609745),\n",
       " ('ele', 6.227221173139752),\n",
       " ('20', 6.210667557956697),\n",
       " ('internet', 6.209982311336272),\n",
       " ('google', 6.167470681266257),\n",
       " ('ver', 6.153356902238627),\n",
       " ('celulares', 6.122221606684996),\n",
       " ('ouvido', 6.1200051261827735),\n",
       " ('ser', 6.091145457070974),\n",
       " ('número', 6.0753707957768235),\n",
       " ('das', 6.009982765371297)]"
      ]
     },
     "execution_count": 336,
     "metadata": {},
     "output_type": "execute_result"
    }
   ],
   "source": [
    "rdd_inter_join = rdd_inter_freq.join(rdd_inter_idf)\n",
    "rdd_inter_rel = rdd_inter_join.map(computa_rel)\n",
    "\n",
    "list_inter_rel = rdd_inter_rel.takeOrdered(100, key=lambda x: -x[1])\n",
    "list_inter_rel"
   ]
  },
  {
   "cell_type": "code",
   "execution_count": 341,
   "metadata": {
    "scrolled": true
   },
   "outputs": [
    {
     "data": {
      "text/plain": [
       "[('(1)', 13.171358817662837),\n",
       " ('responder', 11.23270080026728),\n",
       " ('partir', 10.439828386208955),\n",
       " ('vc', 10.310292078914369),\n",
       " ('loans', 10.292629807799113),\n",
       " ('às', 10.063822292513974),\n",
       " ('i', 10.013767888288601),\n",
       " ('de', 9.996157747553783),\n",
       " ('brides', 9.986804889042837),\n",
       " ('celular', 9.984559747362555),\n",
       " ('*', 9.937219397872994),\n",
       " ('dating', 9.936477251250722),\n",
       " ('rastrear', 9.923924312490264),\n",
       " ('you', 9.913718553739209),\n",
       " ('gratis', 9.867305400545431),\n",
       " ('to', 9.865663621325218),\n",
       " ('at', 9.748279077399857),\n",
       " ('for', 9.731716588731594),\n",
       " ('this', 9.715955004477694),\n",
       " ('payday', 9.65360680181539),\n",
       " ('espião', 9.627203382368709),\n",
       " ('bride', 9.608221080400568),\n",
       " ('the', 9.600961447736143),\n",
       " ('+', 9.471633105909886),\n",
       " ('your', 9.368620922972084),\n",
       " ('e', 9.353389343991836),\n",
       " ('que', 9.337890123396962),\n",
       " ('like', 9.335971872943439),\n",
       " ('russian', 9.315497045044866),\n",
       " ('and', 9.306761451262243),\n",
       " ('am', 9.296034189977442),\n",
       " ('in', 9.294793222836091),\n",
       " ('abril', 9.27448606262811),\n",
       " ('a', 9.267439522527878),\n",
       " ('installment', 9.24260910278683),\n",
       " ('ukrainian', 9.219427766239821),\n",
       " ('really', 9.20828104605277),\n",
       " ('mail', 9.158001586902332),\n",
       " ('.', 9.152193185158817),\n",
       " ('essay', 9.148882187332088),\n",
       " ('be', 9.117368660550895),\n",
       " ('numero', 9.107463540103787),\n",
       " ('order', 9.068404143033263),\n",
       " ('is', 9.056533268110181),\n",
       " ('will', 9.055614412935011),\n",
       " ('if', 9.0542131950767),\n",
       " ('of', 9.049531952874347),\n",
       " ('programa', 9.034178445112481),\n",
       " ('2010', 9.024831482472763),\n",
       " ('asian', 8.998812133779225),\n",
       " ('women', 8.93817053926374),\n",
       " ('do', 8.937428896020345),\n",
       " ('-', 8.932321132889765),\n",
       " ('best', 8.90298186555224),\n",
       " ('teste', 8.868875931890589),\n",
       " ('it', 8.848817291774493),\n",
       " ('that', 8.810400468835848),\n",
       " ('my', 8.793727154164165),\n",
       " ('latin', 8.775578455684464),\n",
       " ('thanks', 8.746557237858594),\n",
       " ('julho', 8.737630478915305),\n",
       " ('eu', 8.729602743476342),\n",
       " ('online', 8.71545623584263),\n",
       " ('no', 8.710306589262101),\n",
       " ('i’m', 8.708803118528495),\n",
       " ('fiz', 8.707951130925183),\n",
       " ('read', 8.673662952639884),\n",
       " ('eles', 8.66201258103367),\n",
       " ('very', 8.638828791812447),\n",
       " ('2019', 8.609424998735175),\n",
       " ('2020', 8.59900862390534),\n",
       " ('can', 8.59529523954777),\n",
       " ('on', 8.5915799575123),\n",
       " ('o', 8.580696392910097),\n",
       " ('have', 8.578727296570152),\n",
       " ('cams', 8.568286656254562),\n",
       " ('r$', 8.523147656270979),\n",
       " ('more', 8.51981977496674),\n",
       " ('title', 8.506053803364122),\n",
       " ('writing', 8.504629799409509),\n",
       " ('me', 8.490740469433414),\n",
       " ('thank', 8.485743361802147),\n",
       " ('?', 8.485550546078139),\n",
       " ('how', 8.474074088434309),\n",
       " ('para', 8.44697897239318),\n",
       " ('com', 8.441536195297601),\n",
       " ('cam', 8.436031881376978),\n",
       " ('with', 8.42724523139231),\n",
       " ('cartão', 8.414361037564902),\n",
       " ('em', 8.398378834991668),\n",
       " ('categoria', 8.396940425651275),\n",
       " ('um', 8.38477985859306),\n",
       " ('deu', 8.372256419195928),\n",
       " ('return', 8.365749820117582),\n",
       " ('know', 8.34437195753599),\n",
       " ('free', 8.343820507260679),\n",
       " ('some', 8.330122464464939),\n",
       " ('website', 8.288727427841739),\n",
       " ('great', 8.262981098751812),\n",
       " ('just', 8.252729428802631)]"
      ]
     },
     "execution_count": 341,
     "metadata": {},
     "output_type": "execute_result"
    }
   ],
   "source": [
    "rdd_iphone_join = rdd_iphone_freq.join(rdd_iphone_idf)\n",
    "rdd_iphone_rel = rdd_iphone_join.map(computa_rel)\n",
    "\n",
    "list_iphone_rel = rdd_iphone_rel.takeOrdered(100, key=lambda x: -x[1])\n",
    "list_iphone_rel"
   ]
  },
  {
   "cell_type": "code",
   "execution_count": null,
   "metadata": {},
   "outputs": [],
   "source": [
    "#Nao funciona no cluster\n",
    "result = rdd_idf.collect()\n",
    "result1 = rdd_freq.collect()"
   ]
  },
  {
   "cell_type": "code",
   "execution_count": null,
   "metadata": {},
   "outputs": [],
   "source": [
    "test = sorted(result, key = lambda x: x[1])\n",
    "test1 = sorted(result1, key = lambda x: x[1])"
   ]
  },
  {
   "cell_type": "code",
   "execution_count": null,
   "metadata": {},
   "outputs": [],
   "source": []
  }
 ],
 "metadata": {
  "kernelspec": {
   "display_name": "Python 3",
   "language": "python",
   "name": "python3"
  },
  "language_info": {
   "codemirror_mode": {
    "name": "ipython",
    "version": 3
   },
   "file_extension": ".py",
   "mimetype": "text/x-python",
   "name": "python",
   "nbconvert_exporter": "python",
   "pygments_lexer": "ipython3",
   "version": "3.8.6"
  }
 },
 "nbformat": 4,
 "nbformat_minor": 4
}
